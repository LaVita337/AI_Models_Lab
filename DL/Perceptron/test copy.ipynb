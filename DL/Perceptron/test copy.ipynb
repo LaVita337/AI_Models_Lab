{
 "cells": [
  {
   "cell_type": "markdown",
   "metadata": {},
   "source": []
  },
  {
   "cell_type": "markdown",
   "metadata": {},
   "source": [
    "### **단층 퍼셉트론의 한계**\n",
    "- *은닉층 없이 입력층과 출력층만 있는 경우를 단층 퍼셉트론이라 부름*\n",
    "- *단층 퍼셉트론은 디지털 논리 회로 개념에서 AND, NAND, OR 게이트를 구현할 수 있지만, XOR 게이트는 구현하지 못한다는 한계가 있음*  \n",
    "*왜냐하면, 단층 퍼셉트론은 입력값에 따른 출력값을 구분짓는 직선을 1개밖에 그릴 수 없기 때문*\n",
    "\n",
    "<div style=\"text-align: center;\">\n",
    "    <img src=\"Screenshot 2023-07-26 at 5.44.02 PM.png\" style=\"width: 500px; height: 300px;\">\n",
    "</div>\n",
    "<br>\n",
    "\n",
    "### **XOR게이트**\n",
    "*XOR 게이트는 두 개의 입력이 서로 다른 경우에만 출력이 1(참)이 되는 논리적 연산을 수행하는데, 이러한 동작을 단일 층의 퍼셉트론으로는 구현할 수 없음.*\n",
    "\n",
    "*NAND, AND 게이트와 OR 게이트는 각각 입력들을 선형적으로 구분하는 직선 형태의 경계를 갖기 때문에, 단일 층의 퍼셉트론은 두 입력의 조합에 따라 입력 공간을 두 영역으로만 나눌 수 있다, 하지만 XOR 게이트의 경우에는 두 입력이 서로 다른 경우에만 1(참)이 되기 때문에, 입력 공간을 직선 하나로만 나눌 수 있는 단일 층의 퍼셉트론으로는 구현이 불가능합니다.*\n",
    "\n",
    "*XOR 게이트를 구현하기 위해서는 여러 개의 퍼셉트론을 조합하여 다층 퍼셉트론(Multi-Layer Perceptron, MLP)을 만들어야 합니다. MLP는 입력층, 은닉층(hidden layer), 출력층으로 구성되며, 은닉층을 통해 비선형적인 결정 경계를 만들어서 XOR 게이트와 같은 복잡한 논리 연산을 수행할 수 있습니다.*\n",
    "\n",
    "<br>\n",
    "<br>\n",
    "<br>\n",
    "\n",
    "<div style=\"text-align: center;\">\n",
    "    <img src=\"Screenshot 2023-07-27 at 10.47.27 AM.png\" style=\"width: 500px; height: 300px;\">\n",
    "</div>\n",
    "<br>\n",
    "\n",
    "<div style=\"text-align: center;\">\n",
    "    <img src=\"Screenshot 2023-07-26 at 10.38.14 PM.png\" style=\"width: 700px; height: 300px;\">\n",
    "</div>\n"
   ]
  },
  {
   "cell_type": "markdown",
   "metadata": {},
   "source": [
    "### **단층 퍼셉트론의 한계 극복 \"다층 퍼셉트론\"**\n",
    "\n",
    "> ##### 단층 퍼셉트론은 입력과 출력 사이의 선형적인 관계만 모델링할 수 있기 때문에 선형적으로 분리되지 않는 데이터에 대해서는 성능이 제한적입니다. 이로 인해 XOR 게이트와 같은 비선형 문제를 해결하지 못하는 단점이 있습니다. 다층 퍼셉트론은 여러 개의 은닉층(hidden layer)을 포함하여 구성된 신경망 구조로서, 이러한 은닉층들은 비선형 활성화 함수를 사용하여 입력과 출력 사이의 복잡한 비선형 관계를 학습할 수 있습니다. \n",
    "\n"
   ]
  },
  {
   "cell_type": "markdown",
   "metadata": {},
   "source": [
    "<div style=\"text-align: center;\">\n",
    "    <img src=\"Screenshot 2023-07-26 at 10.42.20 PM.png\" style=\"width: 500px; height: 300px;\">\n",
    "</div>\n",
    "<br>\n",
    "\n",
    "### **선형과 비선형**\n",
    "<div style=\"text-align: center;\">\n",
    "    <img src=\"Screenshot 2023-07-27 at 10.45.16 AM.png\" style=\"width: 500px; height: 300px;\">\n",
    "</div>\n",
    "<br>\n",
    "\n"
   ]
  },
  {
   "cell_type": "markdown",
   "metadata": {},
   "source": [
    "\n",
    "<div style=\"text-align: center;\">\n",
    "    <img src=\"Screenshot 2023-07-26 at 10.46.46 PM.png\" style=\"width: 600px; height: 300px;\">\n",
    "</div>\n",
    "\n",
    "<br>\n",
    "\n",
    "<div style=\"text-align: center;\">\n",
    "    <img src=\"Screenshot 2023-07-27 at 9.20.06 AM.png\" style=\"width: 700px; height: 300px;\">\n",
    "</div>\n",
    "<br>"
   ]
  },
  {
   "cell_type": "markdown",
   "metadata": {},
   "source": [
    "### **동작순서**\n",
    "1. *0층의 두 뉴런이 입력 신호를 받아 1층의 뉴런으로 신호를 보낸다.*  \n",
    "\n",
    "2. *1층의 뉴런이 2층의 뉴런으로 신호를 보내고, 2층의 뉴런은 y를 출력한다.*\n",
    "\n",
    "**단층 퍼셉트론으로는 표현하지 못한 것을 층을 하나 늘려 구현할 수 있다.**\n",
    "\n",
    "2층 퍼셉트론, 정확히는 비선형인 시그모이드 함수를 활성화 함수로 이용하면 임의의 함수를 표현할 수 있다는 사실이 증명됨"
   ]
  },
  {
   "cell_type": "markdown",
   "metadata": {},
   "source": [
    "\n",
    "\n",
    "<div style=\"text-align: center;\">\n",
    "    <img src=\"Screenshot 2023-07-26 at 10.59.54 PM.png\" style=\"width: 700px; height: 300px;\">\n",
    "</div>"
   ]
  },
  {
   "cell_type": "markdown",
   "metadata": {},
   "source": []
  }
 ],
 "metadata": {
  "kernelspec": {
   "display_name": "Python 3",
   "language": "python",
   "name": "python3"
  },
  "language_info": {
   "codemirror_mode": {
    "name": "ipython",
    "version": 3
   },
   "file_extension": ".py",
   "mimetype": "text/x-python",
   "name": "python",
   "nbconvert_exporter": "python",
   "pygments_lexer": "ipython3",
   "version": "3.11.4"
  },
  "orig_nbformat": 4
 },
 "nbformat": 4,
 "nbformat_minor": 2
}
