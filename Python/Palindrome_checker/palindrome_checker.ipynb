{
  "nbformat": 4,
  "nbformat_minor": 0,
  "metadata": {
    "colab": {
      "provenance": [],
      "include_colab_link": true
    },
    "kernelspec": {
      "name": "python3",
      "display_name": "Python 3"
    },
    "language_info": {
      "name": "python"
    }
  },
  "cells": [
    {
      "cell_type": "markdown",
      "metadata": {
        "id": "view-in-github",
        "colab_type": "text"
      },
      "source": [
        "<a href=\"https://colab.research.google.com/github/LaVita337/AIFFEL_Workplace/blob/main/Quest/Quest01/Quest01.ipynb\" target=\"_parent\"><img src=\"https://colab.research.google.com/assets/colab-badge.svg\" alt=\"Open In Colab\"/></a>"
      ]
    },
    {
      "cell_type": "code",
      "source": [
        "word =input(\"단어를 입력하세요 : \")\n",
        "reversed_word = word[::-1]\n",
        "print(reversed_word)\n",
        "\n",
        "if word == reversed_word :\n",
        "    print(\"입력값은 : \", reversed_word)\n",
        "    print( \"입니다.\")\n",
        "else :\n",
        "    print(\"회문이 아닙니다.\")"
      ],
      "metadata": {
        "id": "gUMpyMapcKD6"
      },
      "execution_count": null,
      "outputs": []
    },
    {
      "cell_type": "code",
      "source": [],
      "metadata": {
        "id": "fhJAryr8edNc"
      },
      "execution_count": null,
      "outputs": []
    }
  ]
}